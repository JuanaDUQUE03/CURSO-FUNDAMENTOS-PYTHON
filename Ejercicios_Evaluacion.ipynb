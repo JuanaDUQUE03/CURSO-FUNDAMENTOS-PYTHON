{
  "nbformat": 4,
  "nbformat_minor": 0,
  "metadata": {
    "colab": {
      "provenance": []
    },
    "kernelspec": {
      "name": "python3",
      "display_name": "Python 3"
    },
    "language_info": {
      "name": "python"
    }
  },
  "cells": [
    {
      "cell_type": "markdown",
      "source": [
        "1. Gestión de Inventario de Productos Descripción: Se debe desarrollar un sistema que administre un inventario compuesto por productos y sus cantidades. El programa presentará el listado inicial y resaltará aquellos artículos cuyo stock esté por debajo de un umbral definido. Luego, permitirá actualizar la cantidad de un producto específico, mostrando el inventario antes y después de la modificación."
      ],
      "metadata": {
        "id": "WMgAp-z5TtyZ"
      }
    },
    {
      "cell_type": "code",
      "source": [
        "# Primera actividad\n",
        "inventario = [(\"Fresas\", 50), (\"Moras\", 5), (\"Cerezas\", 30)]\n",
        "\n",
        "stock_bajo = 10\n",
        "\n",
        "print(\"Inventario actual:\")\n",
        "for producto, cantidad in inventario:\n",
        "   if cantidad < stock_bajo:\n",
        "        print(producto + \": \" + str(cantidad) + \" (Bajo stock)\")\n",
        "   else:\n",
        "        print(producto + \": \" + str(cantidad))\n",
        "\n",
        "producto_actualizar = input(\"Ingrese el nombre del producto a actualizar: \")\n",
        "\n",
        "for producto, cantidad in inventario:\n",
        "    if producto == producto_actualizar:\n",
        "        nueva_cantidad = int(input(\"Ingrese la nueva cantidad: \"))\n",
        "\n",
        "        print(\"Inventario antes de la actualización:\")\n",
        "        for producto, cantidad in inventario:\n",
        "            print(producto + \": \" + str(cantidad))\n",
        "\n",
        "        inventario = [(producto, nueva_cantidad)\n",
        "        if producto == producto_actualizar else (producto, cantidad) for producto, cantidad in inventario]\n",
        "\n",
        "        print(\"Inventario después de la actualización:\")\n",
        "for producto, cantidad in inventario:\n",
        "    if cantidad < stock_bajo:\n",
        "        print(producto + \": \" + str(cantidad) + \" (Bajo stock)\")\n",
        "    else:\n",
        "        print(producto + \": \" + str(cantidad))\n",
        "        break\n",
        "else:\n",
        "    print(\"Producto no encontrado en el inventario.\")"
      ],
      "metadata": {
        "colab": {
          "base_uri": "https://localhost:8080/"
        },
        "id": "-DI1xROqT6Hf",
        "outputId": "49b5d4dc-44b0-4c20-c9b4-b939c2be412a"
      },
      "execution_count": 2,
      "outputs": [
        {
          "output_type": "stream",
          "name": "stdout",
          "text": [
            "Inventario actual:\n",
            "Fresas: 50\n",
            "Moras: 5 (Bajo stock)\n",
            "Cerezas: 30\n",
            "Ingrese el nombre del producto a actualizar: Cerezas\n",
            "Ingrese la nueva cantidad: 25\n",
            "Inventario antes de la actualización:\n",
            "Fresas: 50\n",
            "Moras: 5\n",
            "Cerezas: 30\n",
            "Inventario después de la actualización:\n",
            "Fresas: 50\n"
          ]
        }
      ]
    },
    {
      "cell_type": "markdown",
      "source": [
        "2. Búsqueda de Palabras en un Texto Descripción: Crea una aplicación que solicite al usuario un párrafo y, a continuación, le permita buscar una palabra específica. El sistema debe contar cuántas veces aparece dicha palabra en el texto, mostrar las posiciones donde se encuentra (sin distinguir mayúsculas de minúsculas) y comunicar el resultado al usuario."
      ],
      "metadata": {
        "id": "VzbrtBYfUH-i"
      }
    },
    {
      "cell_type": "code",
      "source": [
        "texto = input(\"Ingrese un párrafo: \")\n",
        "palabra_buscar = input(\"Ingrese la palabra a buscar: \")\n",
        "\n",
        "palabras = texto.lower().split()\n",
        "posiciones = []\n",
        "contador = 0\n",
        "\n",
        "for indice, palabra in enumerate(palabras):\n",
        "    if palabra == palabra_buscar.lower():\n",
        "        posiciones.append(indice)\n",
        "        contador += 1\n",
        "\n",
        "print(\"RESULTADOS:\")\n",
        "print(\"La palabra '\" + palabra_buscar + \"' aparece \" + str(contador) + \" veces.\")\n",
        "\n",
        "if contador > 0:\n",
        "    print(\"Posiciones en el texto: \" + str(posiciones))\n",
        "else:\n",
        "    print(\"La palabra no se encontró en el texto.\")\n",
        "\n"
      ],
      "metadata": {
        "colab": {
          "base_uri": "https://localhost:8080/"
        },
        "id": "juskXkS8UNYp",
        "outputId": "66907fed-b9de-48a7-9a0d-771a755bd853"
      },
      "execution_count": 5,
      "outputs": [
        {
          "output_type": "stream",
          "name": "stdout",
          "text": [
            "Ingrese un párrafo: Hola mundo, feliz mundo\n",
            "Ingrese la palabra a buscar: mundo\n",
            "RESULTADOS:\n",
            "La palabra 'mundo' aparece 1 veces.\n",
            "Posiciones en el texto: [3]\n"
          ]
        }
      ]
    },
    {
      "cell_type": "markdown",
      "source": [
        "3. Conversión y Limpieza de Texto Descripción: Diseña una solución que pida al usuario una frase, la divida en palabras y elimine cualquier carácter no alfabético de cada una. Una vez procesada la información, la estructura resultante se transformará en una forma inmutable, y se presentará el contenido final al usuario de manera ordenada."
      ],
      "metadata": {
        "id": "A4a3hfqTUteG"
      }
    },
    {
      "cell_type": "code",
      "source": [
        "# Tercera actividad\n",
        "print(\"Ingresa una frase:\")\n",
        "frase = input()\n",
        "\n",
        "palabras = frase.split()\n",
        "palabras_limpias = [\"\".join(letra for letra in palabra if ('a' <= letra <= 'z') or ('A' <= letra <= 'Z')) for palabra in palabras]\n",
        "\n",
        "palabras_ordenadas = []\n",
        "while palabras_limpias:\n",
        "    menor = min(palabras_limpias)\n",
        "    palabras_ordenadas += [menor]\n",
        "    palabras_limpias = [p for p in palabras_limpias if p != menor]\n",
        "\n",
        "print(\"Texto procesado:\", tuple(palabras_ordenadas))\n",
        ""
      ],
      "metadata": {
        "colab": {
          "base_uri": "https://localhost:8080/"
        },
        "id": "m2_JGJsjUybE",
        "outputId": "5a7b6e33-7876-44d3-f786-ecc051ab9188"
      },
      "execution_count": 6,
      "outputs": [
        {
          "output_type": "stream",
          "name": "stdout",
          "text": [
            "Ingresa una frase:\n",
            "Hola Python\n",
            "Texto procesado: ('Hola', 'Python')\n"
          ]
        }
      ]
    },
    {
      "cell_type": "markdown",
      "source": [
        "4. Registro y Consulta de Calificaciones de Exámenes Descripción: Implementa un sistema que gestione un registro de estudiantes y sus calificaciones. El programa debe permitir agregar nuevos registros, listar todos los existentes y consultar la calificación de un estudiante introduciendo su nombre. Se espera que la información se actualice y se presente de forma clara en cada paso."
      ],
      "metadata": {
        "id": "iArqEm-KVD2s"
      }
    },
    {
      "cell_type": "code",
      "source": [
        "# Cuarta actividad\n",
        "registros = {}\n",
        "opcion = \"\"\n",
        "\n",
        "while opcion != '4':\n",
        "    print(\"\\n=== Menú de Calificaciones ===\")\n",
        "    print(\"1. Agregar estudiante\")\n",
        "    print(\"2. Listar todos\")\n",
        "    print(\"3. Consultar calificación\")\n",
        "    print(\"4. Salir\")\n",
        "    opcion = input(\"Elige una opción: \")\n",
        "\n",
        "    if opcion == '1':\n",
        "        nombre = input(\"Nombre del estudiante: \")\n",
        "        nota = float(input(\"Calificación: \"))\n",
        "        registros[nombre] = nota\n",
        "        print(\" Registro agregado.\")\n",
        "    elif opcion == '2':\n",
        "        print(\"\\n--- Lista de Calificaciones ---\")\n",
        "        print(\"{:<20} | {:<10}\".format(\"Estudiante\", \"Calificación\"))\n",
        "        print(\"-\" * 35)\n",
        "        for nombre, nota in registros.items():\n",
        "            print(\"{:<20} | {:<10.2f}\".format(nombre, nota))\n",
        "    elif opcion == '3':\n",
        "        buscar = input(\"Nombre del estudiante: \")\n",
        "        if buscar in registros:\n",
        "            print(f\"{buscar} tiene una calificación de {registros[buscar]:.2f}\")\n",
        "        else:\n",
        "            print(\" Estudiante no encontrado.\")\n",
        "    elif opcion != '4':\n",
        "        print(\" Opción inválida.\")"
      ],
      "metadata": {
        "colab": {
          "base_uri": "https://localhost:8080/"
        },
        "id": "vkMoT5xNVHlC",
        "outputId": "ac1ffed9-5d5f-44f2-dc6e-b1a319dce31e"
      },
      "execution_count": 7,
      "outputs": [
        {
          "name": "stdout",
          "output_type": "stream",
          "text": [
            "\n",
            "=== Menú de Calificaciones ===\n",
            "1. Agregar estudiante\n",
            "2. Listar todos\n",
            "3. Consultar calificación\n",
            "4. Salir\n",
            "Elige una opción: 1\n",
            "Nombre del estudiante: Sebas\n",
            "Calificación: 90\n",
            " Registro agregado.\n",
            "\n",
            "=== Menú de Calificaciones ===\n",
            "1. Agregar estudiante\n",
            "2. Listar todos\n",
            "3. Consultar calificación\n",
            "4. Salir\n",
            "Elige una opción: 2\n",
            "\n",
            "--- Lista de Calificaciones ---\n",
            "Estudiante           | Calificación\n",
            "-----------------------------------\n",
            "Sebas                | 90.00     \n",
            "\n",
            "=== Menú de Calificaciones ===\n",
            "1. Agregar estudiante\n",
            "2. Listar todos\n",
            "3. Consultar calificación\n",
            "4. Salir\n",
            "Elige una opción: 4\n"
          ]
        }
      ]
    },
    {
      "cell_type": "markdown",
      "source": [
        "5. Calculadora de Estadísticas de Números Descripción: Desarrolla una aplicación que trabaje con una colección de números predefinidos. El sistema debe ofrecer al usuario un menú interactivo con opciones para calcular el promedio, identificar el valor máximo y mínimo, o eliminar un número. Tras cada operación, se mostrará tanto el resultado como el estado actual de la colección."
      ],
      "metadata": {
        "id": "4NUQTg97VUIt"
      }
    },
    {
      "cell_type": "code",
      "source": [
        "# Quinta actividad\n",
        "numeros = [15, 23, 7, 89, 42, 10]\n",
        "opcion = \"\"\n",
        "\n",
        "while opcion != '5':\n",
        "    print(\"\\n=== Calculadora de Estadísticas ===\")\n",
        "    print(\"Números:\", numeros)\n",
        "    print(\"1. Calcular promedio\")\n",
        "    print(\"2. Valor máximo\")\n",
        "    print(\"3. Valor mínimo\")\n",
        "    print(\"4. Eliminar un número\")\n",
        "    print(\"5. Salir\")\n",
        "    opcion = input(\"Elige una opción: \")\n",
        "\n",
        "    if opcion == '1':\n",
        "        if numeros:\n",
        "            promedio = sum(numeros) / len(numeros)\n",
        "            print(f\"📊 Promedio: {promedio:.2f}\")\n",
        "        else:\n",
        "            print(\"Lista vacía.\")\n",
        "    elif opcion == '2':\n",
        "        if numeros:\n",
        "            print(f\" Máximo: {max(numeros)}\")\n",
        "        else:\n",
        "            print(\"Lista vacía.\")\n",
        "    elif opcion == '3':\n",
        "        if numeros:\n",
        "            print(f\"Mínimo: {min(numeros)}\")\n",
        "        else:\n",
        "            print(\"Lista vacía.\")\n",
        "    elif opcion == '4':\n",
        "        try:\n",
        "            num = int(input(\"Número a eliminar: \"))\n",
        "            if num in numeros:\n",
        "                numeros.remove(num)\n",
        "                print(\"Número eliminado.\")\n",
        "            else:\n",
        "                print(\"Número no encontrado.\")\n",
        "        except ValueError:\n",
        "            print(\"Entrada inválida.\")\n",
        "    elif opcion != '5':\n",
        "        print(\"Opción inválida.\")"
      ],
      "metadata": {
        "colab": {
          "base_uri": "https://localhost:8080/"
        },
        "id": "OIxy1PcoVZqr",
        "outputId": "52416138-d734-480e-b790-2fd5c4a15140"
      },
      "execution_count": 8,
      "outputs": [
        {
          "name": "stdout",
          "output_type": "stream",
          "text": [
            "\n",
            "=== Calculadora de Estadísticas ===\n",
            "Números: [15, 23, 7, 89, 42, 10]\n",
            "1. Calcular promedio\n",
            "2. Valor máximo\n",
            "3. Valor mínimo\n",
            "4. Eliminar un número\n",
            "5. Salir\n",
            "Elige una opción: 1\n",
            "📊 Promedio: 31.00\n",
            "\n",
            "=== Calculadora de Estadísticas ===\n",
            "Números: [15, 23, 7, 89, 42, 10]\n",
            "1. Calcular promedio\n",
            "2. Valor máximo\n",
            "3. Valor mínimo\n",
            "4. Eliminar un número\n",
            "5. Salir\n",
            "Elige una opción: 5\n"
          ]
        }
      ]
    }
  ]
}